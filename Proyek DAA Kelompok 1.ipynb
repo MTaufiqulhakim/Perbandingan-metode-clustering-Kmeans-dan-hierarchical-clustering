{
 "cells": [
  {
   "cell_type": "markdown",
   "metadata": {
    "id": "ugcNcWsWdKbJ"
   },
   "source": [
    "### **PENDAHULUAN**\n",
    "\n",
    "Dalam era globalisasi, pengelompokan negara berdasarkan indikator ekonomi seperti GDP (Gross Domestic Product) menjadi sangat penting untuk memahami pola perkembangan ekonomi di seluruh dunia. Clustering adalah salah satu metode yang memungkinkan pengelompokan negara berdasarkan kesamaan karakteristik ekonominya, sehingga dapat memberikan wawasan mengenai kelompok negara dengan tingkat kemajuan serupa.\n",
    "\n",
    "Proyek ini bertujuan untuk mengelompokkan negara-negara berdasarkan GDP dan indikator lainnya menggunakan algoritma K-Means dan Hierarchical Clustering. Hasil pengelompokan ini diharapkan memberikan informasi tentang pola ekonomi global, membantu pemerintah, ekonom, dan investor dalam membuat keputusan strategis. Dengan memanfaatkan kedua algoritma tersebut, penelitian ini juga mengevaluasi performa dan karakteristik masing-masing metode dalam menganalisis data ekonomi skala besar."
   ]
  },
  {
   "cell_type": "markdown",
   "metadata": {
    "id": "xzI9--icdbTm"
   },
   "source": [
    "# **Metodologi**\n",
    "1. Pembersihan Data\n",
    "- Melakukan pembersihan data sebelum eksekusi, agar proses eksekusi lancar dan memberikan hasil optimal\n",
    "\n",
    "2. Inisialisasi Fungsi\n",
    "- Membuat fungsi yang akan digunakan dalam clustering\n",
    "\n",
    "2. Normalisasi Data\n",
    "- Data GDP dinormalisasi menggunakan Standard Scaler untuk membuat distribusi data memiliki rata-rata 0 dan standar deviasi 1.\n",
    "\n",
    "3. Metode Clustering\n",
    "\n",
    "  a. K-Means Clustering:\n",
    "  - Menentukan jumlah cluster optimal menggunakan Elbow Method dengan menghitung WCSS.\n",
    "\n",
    "  - Mengelompokkan data berdasarkan K-Means dan menghasilkan label cluster.\n",
    "\n",
    "  b. Hierarchical Clustering:\n",
    "  - Menggunakan tiga metode linkage: Complete, Single, dan Average Linkage untuk membuat dendrogram dan mengelompokkan negara.\n",
    "\n",
    "4. Evaluasi dan Visualisasi\n",
    "- Grafik Elbow Method untuk menemukan jumlah cluster optimal.\n",
    "- Scatter plot hasil clustering K-Means.\n",
    "- Dendrogram untuk Hierarchical Clustering.\n",
    "\n",
    "5. Hasil\n",
    "- Mengelompokkan negara berdasarkan GDP dan menganalisis distribusi dalam setiap cluster."
   ]
  },
  {
   "cell_type": "markdown",
   "metadata": {
    "id": "6aPVtMY7hFNC"
   },
   "source": [
    "# **Pembersihan Data**"
   ]
  },
  {
   "cell_type": "code",
   "execution_count": 1,
   "metadata": {
    "colab": {
     "base_uri": "https://localhost:8080/"
    },
    "id": "Rrj2uQHjRc-e",
    "outputId": "b67c16a3-4549-43f9-ac6a-e26a5f4340a3"
   },
   "outputs": [
    {
     "name": "stdout",
     "output_type": "stream",
     "text": [
      "<class 'pandas.core.frame.DataFrame'>\n",
      "RangeIndex: 195 entries, 0 to 194\n",
      "Data columns (total 35 columns):\n",
      " #   Column                                     Non-Null Count  Dtype  \n",
      "---  ------                                     --------------  -----  \n",
      " 0   Country                                    193 non-null    object \n",
      " 1   Density\n",
      "(P/Km2)                            193 non-null    object \n",
      " 2   Abbreviation                               186 non-null    object \n",
      " 3   Agricultural Land( %)                      186 non-null    object \n",
      " 4   Land Area(Km2)                             192 non-null    object \n",
      " 5   Armed Forces size                          169 non-null    object \n",
      " 6   Birth Rate                                 187 non-null    float64\n",
      " 7   Calling Code                               192 non-null    float64\n",
      " 8   Capital/Major City                         190 non-null    object \n",
      " 9   Co2-Emissions                              186 non-null    object \n",
      " 10  CPI                                        176 non-null    object \n",
      " 11  CPI Change (%)                             177 non-null    object \n",
      " 12  Currency-Code                              178 non-null    object \n",
      " 13  Fertility Rate                             186 non-null    float64\n",
      " 14  Forested Area (%)                          186 non-null    object \n",
      " 15  Gasoline Price                             173 non-null    object \n",
      " 16  GDP                                        191 non-null    object \n",
      " 17  Gross primary education enrollment (%)     186 non-null    object \n",
      " 18  Gross tertiary education enrollment (%)    181 non-null    object \n",
      " 19  Infant mortality                           187 non-null    float64\n",
      " 20  Largest city                               187 non-null    object \n",
      " 21  Life expectancy                            185 non-null    float64\n",
      " 22  Maternal mortality ratio                   179 non-null    float64\n",
      " 23  Minimum wage                               148 non-null    object \n",
      " 24  Official language                          189 non-null    object \n",
      " 25  Out of pocket health expenditure           186 non-null    object \n",
      " 26  Physicians per thousand                    186 non-null    float64\n",
      " 27  Population                                 192 non-null    object \n",
      " 28  Population: Labor force participation (%)  174 non-null    object \n",
      " 29  Tax revenue (%)                            167 non-null    object \n",
      " 30  Total tax rate                             181 non-null    object \n",
      " 31  Unemployment rate                          174 non-null    object \n",
      " 32  Urban_population                           188 non-null    object \n",
      " 33  Latitude                                   192 non-null    float64\n",
      " 34  Longitude                                  192 non-null    float64\n",
      "dtypes: float64(9), object(26)\n",
      "memory usage: 53.4+ KB\n"
     ]
    },
    {
     "data": {
      "text/plain": [
       "(None,\n",
       "        Country Density\\n(P/Km2) Abbreviation Agricultural Land( %)  \\\n",
       " 0  Afghanistan               60           AF                58.10%   \n",
       " 1      Albania              105           AL                43.10%   \n",
       " 2      Algeria               18           DZ                17.40%   \n",
       " 3      Andorra              164           AD                40.00%   \n",
       " 4       Angola               26           AO                47.50%   \n",
       " \n",
       "   Land Area(Km2) Armed Forces size  Birth Rate  Calling Code  \\\n",
       " 0        652,230           323,000       32.49          93.0   \n",
       " 1         28,748             9,000       11.78         355.0   \n",
       " 2      2,381,741           317,000       24.28         213.0   \n",
       " 3            468               NaN        7.20         376.0   \n",
       " 4      1,246,700           117,000       40.73         244.0   \n",
       " \n",
       "   Capital/Major City Co2-Emissions  ... Out of pocket health expenditure  \\\n",
       " 0              Kabul         8,672  ...                           78.40%   \n",
       " 1             Tirana         4,536  ...                           56.90%   \n",
       " 2            Algiers       150,006  ...                           28.10%   \n",
       " 3   Andorra la Vella           469  ...                           36.40%   \n",
       " 4             Luanda        34,693  ...                           33.40%   \n",
       " \n",
       "   Physicians per thousand  Population  \\\n",
       " 0                    0.28  38,041,754   \n",
       " 1                    1.20   2,854,191   \n",
       " 2                    1.72  43,053,054   \n",
       " 3                    3.33      77,142   \n",
       " 4                    0.21  31,825,295   \n",
       " \n",
       "    Population: Labor force participation (%) Tax revenue (%) Total tax rate  \\\n",
       " 0                                     48.90%           9.30%         71.40%   \n",
       " 1                                     55.70%          18.60%         36.60%   \n",
       " 2                                     41.20%          37.20%         66.10%   \n",
       " 3                                        NaN             NaN            NaN   \n",
       " 4                                     77.50%           9.20%         49.10%   \n",
       " \n",
       "   Unemployment rate Urban_population   Latitude  Longitude  \n",
       " 0            11.12%        9,797,273  33.939110  67.709953  \n",
       " 1            12.33%        1,747,593  41.153332  20.168331  \n",
       " 2            11.70%       31,510,100  28.033886   1.659626  \n",
       " 3               NaN           67,873  42.506285   1.521801  \n",
       " 4             6.89%       21,061,025 -11.202692  17.873887  \n",
       " \n",
       " [5 rows x 35 columns],\n",
       "        Birth Rate  Calling Code  Fertility Rate  Infant mortality  \\\n",
       " count  187.000000    192.000000      186.000000        187.000000   \n",
       " mean    20.310856    363.848958        2.708763         21.491444   \n",
       " std      9.955265    323.254399        1.285034         19.591726   \n",
       " min      5.900000      1.000000        0.980000          1.400000   \n",
       " 25%     11.350000     83.500000        1.710000          6.050000   \n",
       " 50%     18.070000    256.500000        2.255000         14.000000   \n",
       " 75%     28.890000    507.500000        3.612500         32.800000   \n",
       " max     46.080000   1876.000000        6.910000         84.500000   \n",
       " \n",
       "        Life expectancy  Maternal mortality ratio  Physicians per thousand  \\\n",
       " count       185.000000                179.000000               186.000000   \n",
       " mean         72.220541                161.916201                 1.834946   \n",
       " std           7.501935                234.359080                 1.692355   \n",
       " min          52.800000                  2.000000                 0.010000   \n",
       " 25%          66.900000                 12.500000                 0.317500   \n",
       " 50%          73.200000                 58.000000                 1.380000   \n",
       " 75%          77.400000                190.500000                 2.965000   \n",
       " max          85.400000               1150.000000                 8.420000   \n",
       " \n",
       "          Latitude   Longitude  \n",
       " count  192.000000  192.000000  \n",
       " mean    18.911272   20.399009  \n",
       " std     24.020364   66.259531  \n",
       " min    -40.900557 -175.198242  \n",
       " 25%      4.454079   -7.375578  \n",
       " 50%     17.125346   20.972652  \n",
       " 75%     40.192292   47.811792  \n",
       " max     64.963051  178.065032  ,\n",
       " Country                                       2\n",
       " Density\\n(P/Km2)                              2\n",
       " Abbreviation                                  9\n",
       " Agricultural Land( %)                         9\n",
       " Land Area(Km2)                                3\n",
       " Armed Forces size                            26\n",
       " Birth Rate                                    8\n",
       " Calling Code                                  3\n",
       " Capital/Major City                            5\n",
       " Co2-Emissions                                 9\n",
       " CPI                                          19\n",
       " CPI Change (%)                               18\n",
       " Currency-Code                                17\n",
       " Fertility Rate                                9\n",
       " Forested Area (%)                             9\n",
       " Gasoline Price                               22\n",
       " GDP                                           4\n",
       " Gross primary education enrollment (%)        9\n",
       " Gross tertiary education enrollment (%)      14\n",
       " Infant mortality                              8\n",
       " Largest city                                  8\n",
       " Life expectancy                              10\n",
       " Maternal mortality ratio                     16\n",
       " Minimum wage                                 47\n",
       " Official language                             6\n",
       " Out of pocket health expenditure              9\n",
       " Physicians per thousand                       9\n",
       " Population                                    3\n",
       " Population: Labor force participation (%)    21\n",
       " Tax revenue (%)                              28\n",
       " Total tax rate                               14\n",
       " Unemployment rate                            21\n",
       " Urban_population                              7\n",
       " Latitude                                      3\n",
       " Longitude                                     3\n",
       " dtype: int64)"
      ]
     },
     "execution_count": 1,
     "metadata": {},
     "output_type": "execute_result"
    }
   ],
   "source": [
    "import pandas as pd\n",
    "\n",
    "data = pd.read_csv('world-data-2023.csv')\n",
    "\n",
    "data_info = data.info()\n",
    "data_head = data.head()\n",
    "data_description = data.describe()\n",
    "data_nulls = data.isnull().sum()\n",
    "\n",
    "data_info, data_head, data_description, data_nulls\n"
   ]
  },
  {
   "cell_type": "code",
   "execution_count": 2,
   "metadata": {
    "colab": {
     "base_uri": "https://localhost:8080/"
    },
    "id": "T95YknCflbuO",
    "outputId": "ca9b9736-a728-405c-805a-94e895f879ee"
   },
   "outputs": [
    {
     "name": "stdout",
     "output_type": "stream",
     "text": [
      "<class 'pandas.core.frame.DataFrame'>\n",
      "RangeIndex: 195 entries, 0 to 194\n",
      "Data columns (total 35 columns):\n",
      " #   Column                                     Non-Null Count  Dtype  \n",
      "---  ------                                     --------------  -----  \n",
      " 0   Country                                    0 non-null      float64\n",
      " 1   Density\n",
      "(P/Km2)                            193 non-null    float64\n",
      " 2   Abbreviation                               0 non-null      float64\n",
      " 3   Agricultural Land( %)                      186 non-null    float64\n",
      " 4   Land Area(Km2)                             192 non-null    float64\n",
      " 5   Armed Forces size                          169 non-null    float64\n",
      " 6   Birth Rate                                 187 non-null    float64\n",
      " 7   Calling Code                               192 non-null    float64\n",
      " 8   Capital/Major City                         0 non-null      float64\n",
      " 9   Co2-Emissions                              186 non-null    float64\n",
      " 10  CPI                                        176 non-null    float64\n",
      " 11  CPI Change (%)                             177 non-null    float64\n",
      " 12  Currency-Code                              0 non-null      float64\n",
      " 13  Fertility Rate                             186 non-null    float64\n",
      " 14  Forested Area (%)                          186 non-null    float64\n",
      " 15  Gasoline Price                             173 non-null    float64\n",
      " 16  GDP                                        191 non-null    float64\n",
      " 17  Gross primary education enrollment (%)     186 non-null    float64\n",
      " 18  Gross tertiary education enrollment (%)    181 non-null    float64\n",
      " 19  Infant mortality                           187 non-null    float64\n",
      " 20  Largest city                               0 non-null      float64\n",
      " 21  Life expectancy                            185 non-null    float64\n",
      " 22  Maternal mortality ratio                   179 non-null    float64\n",
      " 23  Minimum wage                               148 non-null    float64\n",
      " 24  Official language                          0 non-null      float64\n",
      " 25  Out of pocket health expenditure           186 non-null    float64\n",
      " 26  Physicians per thousand                    186 non-null    float64\n",
      " 27  Population                                 192 non-null    float64\n",
      " 28  Population: Labor force participation (%)  174 non-null    float64\n",
      " 29  Tax revenue (%)                            167 non-null    float64\n",
      " 30  Total tax rate                             181 non-null    float64\n",
      " 31  Unemployment rate                          174 non-null    float64\n",
      " 32  Urban_population                           188 non-null    float64\n",
      " 33  Latitude                                   192 non-null    float64\n",
      " 34  Longitude                                  192 non-null    float64\n",
      "dtypes: float64(35)\n",
      "memory usage: 53.4 KB\n"
     ]
    },
    {
     "name": "stderr",
     "output_type": "stream",
     "text": [
      "<>:2: SyntaxWarning: invalid escape sequence '\\$'\n",
      "<>:2: SyntaxWarning: invalid escape sequence '\\$'\n",
      "C:\\Users\\Taufiq\\AppData\\Local\\Temp\\ipykernel_24264\\1790458333.py:2: SyntaxWarning: invalid escape sequence '\\$'\n",
      "  column = column.str.replace('[\\$,%]', '', regex=True)\n"
     ]
    }
   ],
   "source": [
    "def clean_column(column):\n",
    "    column = column.str.replace('[\\$,%]', '', regex=True)\n",
    "    return pd.to_numeric(column, errors='coerce')\n",
    "for column in data.columns:\n",
    "    if data[column].dtype == 'object':\n",
    "        data[column] = clean_column(data[column])\n",
    "data.info()\n"
   ]
  },
  {
   "cell_type": "code",
   "execution_count": 3,
   "metadata": {
    "colab": {
     "base_uri": "https://localhost:8080/",
     "height": 307
    },
    "id": "rXuWs6qttTDQ",
    "outputId": "669a54cc-7a06-4dda-9923-0577076acccf"
   },
   "outputs": [
    {
     "data": {
      "text/html": [
       "<div>\n",
       "<style scoped>\n",
       "    .dataframe tbody tr th:only-of-type {\n",
       "        vertical-align: middle;\n",
       "    }\n",
       "\n",
       "    .dataframe tbody tr th {\n",
       "        vertical-align: top;\n",
       "    }\n",
       "\n",
       "    .dataframe thead th {\n",
       "        text-align: right;\n",
       "    }\n",
       "</style>\n",
       "<table border=\"1\" class=\"dataframe\">\n",
       "  <thead>\n",
       "    <tr style=\"text-align: right;\">\n",
       "      <th></th>\n",
       "      <th>Country</th>\n",
       "      <th>Density\\n(P/Km2)</th>\n",
       "      <th>Abbreviation</th>\n",
       "      <th>Agricultural Land( %)</th>\n",
       "      <th>Land Area(Km2)</th>\n",
       "      <th>Armed Forces size</th>\n",
       "      <th>Birth Rate</th>\n",
       "      <th>Calling Code</th>\n",
       "      <th>Capital/Major City</th>\n",
       "      <th>Co2-Emissions</th>\n",
       "      <th>...</th>\n",
       "      <th>Out of pocket health expenditure</th>\n",
       "      <th>Physicians per thousand</th>\n",
       "      <th>Population</th>\n",
       "      <th>Population: Labor force participation (%)</th>\n",
       "      <th>Tax revenue (%)</th>\n",
       "      <th>Total tax rate</th>\n",
       "      <th>Unemployment rate</th>\n",
       "      <th>Urban_population</th>\n",
       "      <th>Latitude</th>\n",
       "      <th>Longitude</th>\n",
       "    </tr>\n",
       "  </thead>\n",
       "  <tbody>\n",
       "    <tr>\n",
       "      <th>0</th>\n",
       "      <td>NaN</td>\n",
       "      <td>60.0</td>\n",
       "      <td>NaN</td>\n",
       "      <td>58.1</td>\n",
       "      <td>652230.0</td>\n",
       "      <td>323000.0</td>\n",
       "      <td>32.49</td>\n",
       "      <td>93.0</td>\n",
       "      <td>NaN</td>\n",
       "      <td>8672.0</td>\n",
       "      <td>...</td>\n",
       "      <td>78.4</td>\n",
       "      <td>0.28</td>\n",
       "      <td>38041754.0</td>\n",
       "      <td>48.9</td>\n",
       "      <td>9.3</td>\n",
       "      <td>71.4</td>\n",
       "      <td>11.12</td>\n",
       "      <td>9797273.0</td>\n",
       "      <td>33.939110</td>\n",
       "      <td>67.709953</td>\n",
       "    </tr>\n",
       "    <tr>\n",
       "      <th>1</th>\n",
       "      <td>NaN</td>\n",
       "      <td>105.0</td>\n",
       "      <td>NaN</td>\n",
       "      <td>43.1</td>\n",
       "      <td>28748.0</td>\n",
       "      <td>9000.0</td>\n",
       "      <td>11.78</td>\n",
       "      <td>355.0</td>\n",
       "      <td>NaN</td>\n",
       "      <td>4536.0</td>\n",
       "      <td>...</td>\n",
       "      <td>56.9</td>\n",
       "      <td>1.20</td>\n",
       "      <td>2854191.0</td>\n",
       "      <td>55.7</td>\n",
       "      <td>18.6</td>\n",
       "      <td>36.6</td>\n",
       "      <td>12.33</td>\n",
       "      <td>1747593.0</td>\n",
       "      <td>41.153332</td>\n",
       "      <td>20.168331</td>\n",
       "    </tr>\n",
       "    <tr>\n",
       "      <th>2</th>\n",
       "      <td>NaN</td>\n",
       "      <td>18.0</td>\n",
       "      <td>NaN</td>\n",
       "      <td>17.4</td>\n",
       "      <td>2381741.0</td>\n",
       "      <td>317000.0</td>\n",
       "      <td>24.28</td>\n",
       "      <td>213.0</td>\n",
       "      <td>NaN</td>\n",
       "      <td>150006.0</td>\n",
       "      <td>...</td>\n",
       "      <td>28.1</td>\n",
       "      <td>1.72</td>\n",
       "      <td>43053054.0</td>\n",
       "      <td>41.2</td>\n",
       "      <td>37.2</td>\n",
       "      <td>66.1</td>\n",
       "      <td>11.70</td>\n",
       "      <td>31510100.0</td>\n",
       "      <td>28.033886</td>\n",
       "      <td>1.659626</td>\n",
       "    </tr>\n",
       "    <tr>\n",
       "      <th>3</th>\n",
       "      <td>NaN</td>\n",
       "      <td>164.0</td>\n",
       "      <td>NaN</td>\n",
       "      <td>40.0</td>\n",
       "      <td>468.0</td>\n",
       "      <td>NaN</td>\n",
       "      <td>7.20</td>\n",
       "      <td>376.0</td>\n",
       "      <td>NaN</td>\n",
       "      <td>469.0</td>\n",
       "      <td>...</td>\n",
       "      <td>36.4</td>\n",
       "      <td>3.33</td>\n",
       "      <td>77142.0</td>\n",
       "      <td>NaN</td>\n",
       "      <td>NaN</td>\n",
       "      <td>NaN</td>\n",
       "      <td>NaN</td>\n",
       "      <td>67873.0</td>\n",
       "      <td>42.506285</td>\n",
       "      <td>1.521801</td>\n",
       "    </tr>\n",
       "    <tr>\n",
       "      <th>4</th>\n",
       "      <td>NaN</td>\n",
       "      <td>26.0</td>\n",
       "      <td>NaN</td>\n",
       "      <td>47.5</td>\n",
       "      <td>1246700.0</td>\n",
       "      <td>117000.0</td>\n",
       "      <td>40.73</td>\n",
       "      <td>244.0</td>\n",
       "      <td>NaN</td>\n",
       "      <td>34693.0</td>\n",
       "      <td>...</td>\n",
       "      <td>33.4</td>\n",
       "      <td>0.21</td>\n",
       "      <td>31825295.0</td>\n",
       "      <td>77.5</td>\n",
       "      <td>9.2</td>\n",
       "      <td>49.1</td>\n",
       "      <td>6.89</td>\n",
       "      <td>21061025.0</td>\n",
       "      <td>-11.202692</td>\n",
       "      <td>17.873887</td>\n",
       "    </tr>\n",
       "  </tbody>\n",
       "</table>\n",
       "<p>5 rows × 35 columns</p>\n",
       "</div>"
      ],
      "text/plain": [
       "   Country  Density\\n(P/Km2)  Abbreviation  Agricultural Land( %)  \\\n",
       "0      NaN              60.0           NaN                   58.1   \n",
       "1      NaN             105.0           NaN                   43.1   \n",
       "2      NaN              18.0           NaN                   17.4   \n",
       "3      NaN             164.0           NaN                   40.0   \n",
       "4      NaN              26.0           NaN                   47.5   \n",
       "\n",
       "   Land Area(Km2)  Armed Forces size  Birth Rate  Calling Code  \\\n",
       "0        652230.0           323000.0       32.49          93.0   \n",
       "1         28748.0             9000.0       11.78         355.0   \n",
       "2       2381741.0           317000.0       24.28         213.0   \n",
       "3           468.0                NaN        7.20         376.0   \n",
       "4       1246700.0           117000.0       40.73         244.0   \n",
       "\n",
       "   Capital/Major City  Co2-Emissions  ...  Out of pocket health expenditure  \\\n",
       "0                 NaN         8672.0  ...                              78.4   \n",
       "1                 NaN         4536.0  ...                              56.9   \n",
       "2                 NaN       150006.0  ...                              28.1   \n",
       "3                 NaN          469.0  ...                              36.4   \n",
       "4                 NaN        34693.0  ...                              33.4   \n",
       "\n",
       "   Physicians per thousand  Population  \\\n",
       "0                     0.28  38041754.0   \n",
       "1                     1.20   2854191.0   \n",
       "2                     1.72  43053054.0   \n",
       "3                     3.33     77142.0   \n",
       "4                     0.21  31825295.0   \n",
       "\n",
       "   Population: Labor force participation (%)  Tax revenue (%)  Total tax rate  \\\n",
       "0                                       48.9              9.3            71.4   \n",
       "1                                       55.7             18.6            36.6   \n",
       "2                                       41.2             37.2            66.1   \n",
       "3                                        NaN              NaN             NaN   \n",
       "4                                       77.5              9.2            49.1   \n",
       "\n",
       "   Unemployment rate  Urban_population   Latitude  Longitude  \n",
       "0              11.12         9797273.0  33.939110  67.709953  \n",
       "1              12.33         1747593.0  41.153332  20.168331  \n",
       "2              11.70        31510100.0  28.033886   1.659626  \n",
       "3                NaN           67873.0  42.506285   1.521801  \n",
       "4               6.89        21061025.0 -11.202692  17.873887  \n",
       "\n",
       "[5 rows x 35 columns]"
      ]
     },
     "execution_count": 3,
     "metadata": {},
     "output_type": "execute_result"
    }
   ],
   "source": [
    "data = data.dropna(subset=['GDP'])\n",
    "data.head()"
   ]
  },
  {
   "cell_type": "code",
   "execution_count": 4,
   "metadata": {
    "colab": {
     "base_uri": "https://localhost:8080/",
     "height": 993
    },
    "id": "HSFv94MAtg7G",
    "outputId": "69457e3f-f7a7-4b87-eaeb-120a608ca1f9"
   },
   "outputs": [
    {
     "data": {
      "text/plain": [
       "Density\\n(P/Km2)                              0\n",
       "Agricultural Land( %)                         5\n",
       "Land Area(Km2)                                0\n",
       "Armed Forces size                            22\n",
       "Birth Rate                                    4\n",
       "Calling Code                                  0\n",
       "Co2-Emissions                                 5\n",
       "CPI                                          15\n",
       "CPI Change (%)                               14\n",
       "Fertility Rate                                5\n",
       "Forested Area (%)                             5\n",
       "Gasoline Price                               18\n",
       "GDP                                           0\n",
       "Gross primary education enrollment (%)        5\n",
       "Gross tertiary education enrollment (%)      10\n",
       "Infant mortality                              4\n",
       "Life expectancy                               6\n",
       "Maternal mortality ratio                     12\n",
       "Minimum wage                                 43\n",
       "Out of pocket health expenditure              5\n",
       "Physicians per thousand                       5\n",
       "Population                                    0\n",
       "Population: Labor force participation (%)    17\n",
       "Tax revenue (%)                              24\n",
       "Total tax rate                               10\n",
       "Unemployment rate                            17\n",
       "Urban_population                              3\n",
       "Latitude                                      1\n",
       "Longitude                                     1\n",
       "dtype: int64"
      ]
     },
     "execution_count": 4,
     "metadata": {},
     "output_type": "execute_result"
    }
   ],
   "source": [
    "data = data.dropna(axis=1, how='all')\n",
    "data.isnull().sum()"
   ]
  },
  {
   "cell_type": "markdown",
   "metadata": {
    "id": "3OleYlCNlQqf"
   },
   "source": [
    "# **Inisialisasi Fungsi**"
   ]
  },
  {
   "cell_type": "code",
   "execution_count": 5,
   "metadata": {
    "id": "Vh8p9EBFNsDZ"
   },
   "outputs": [],
   "source": [
    "import csv\n",
    "import random\n",
    "import math\n",
    "import time\n",
    "import pandas as pd\n",
    "import matplotlib.pyplot as plt"
   ]
  },
  {
   "cell_type": "markdown",
   "metadata": {
    "id": "fZqM-CRaNtga"
   },
   "source": [
    "**Fungsi Euclidean**\n",
    "- Fungsi ini menghitung jarak Euclidean antara dua titik dalam ruang multidimensi.\n",
    "- Digunakan untuk menghitung jarak antar data selama proses clustering pada metode K-Means dan Hierarchical Clustering."
   ]
  },
  {
   "cell_type": "code",
   "execution_count": 6,
   "metadata": {
    "id": "fXs1R4whNtH0"
   },
   "outputs": [],
   "source": [
    "def euclidean_distance(point1, point2):\n",
    "    return math.sqrt((point1 - point2) ** 2)"
   ]
  },
  {
   "cell_type": "markdown",
   "metadata": {
    "id": "FDancBxAN4Sv"
   },
   "source": [
    "**Fungsi Kmeans**\n",
    "- Algoritma K-Means membagi data ke dalam *K* klaster dengan langkah-langkah berikut:\n",
    "1. Inisialisasi centroid secara acak sebanyak *K*.\n",
    "2. Menentukan keanggotaan cluster berdasarkan jarak Euclidean ke centroid.\n",
    "3. Memperbarui posisi centroid sebagai rata-rata posisi anggota cluster.\n",
    "4. Proses berulang hingga posisi centroid tidak berubah atau mencapai iterasi maksimum.\n",
    "\n",
    "- Output: Label klaster untuk setiap data dan posisi centroid."
   ]
  },
  {
   "cell_type": "code",
   "execution_count": 7,
   "metadata": {
    "id": "-CUam1AzN38p"
   },
   "outputs": [],
   "source": [
    "def kmeans(data, k, max_iterations=100):\n",
    "    centroids = random.sample(data, k)\n",
    "\n",
    "    for iteration in range(max_iterations):\n",
    "        clusters = [[] for _ in range(k)]\n",
    "\n",
    "        for point in data:\n",
    "            distances = [euclidean_distance(point, centroid) for centroid in centroids]\n",
    "            closest_centroid = distances.index(min(distances))\n",
    "            clusters[closest_centroid].append(point)\n",
    "\n",
    "        new_centroids = []\n",
    "        for cluster in clusters:\n",
    "            if cluster:\n",
    "                new_centroid = sum(cluster) / len(cluster)\n",
    "                new_centroids.append(new_centroid)\n",
    "            else:\n",
    "                new_centroids.append(random.choice(data))\n",
    "\n",
    "        if centroids == new_centroids:\n",
    "            print(f\"Converged after {iteration + 1} iterations.\")\n",
    "            break\n",
    "        centroids = new_centroids\n",
    "\n",
    "    return clusters, centroids"
   ]
  },
  {
   "cell_type": "markdown",
   "metadata": {
    "id": "_eAY2mrBOPwN"
   },
   "source": [
    "**Fungsi WCSS**\n",
    "- Menghitung jumlah kuadrat jarak antar data dalam setiap cluster terhadap centroidnya.\n",
    "- Tujuan: Digunakan untuk mengevaluasi dan memilih jumlah klaster optimal menggunakan metode Elbow."
   ]
  },
  {
   "cell_type": "code",
   "execution_count": 8,
   "metadata": {
    "id": "FnqBBQqQOO-H"
   },
   "outputs": [],
   "source": [
    "def calculate_wcss(data, clusters, centroids):\n",
    "    wcss = 0\n",
    "    for i, cluster in enumerate(clusters):\n",
    "        for point in cluster:\n",
    "            wcss += euclidean_distance(point, centroids[i]) ** 2\n",
    "    return wcss"
   ]
  },
  {
   "cell_type": "markdown",
   "metadata": {
    "id": "pA8m3LvaOTza"
   },
   "source": [
    "**Fungsi Elbow Method**\n",
    "- Metode grafis untuk menentukan jumlah cluster optimal *K* dengan memplot nilai WCSS terhadap berbagai jumlah cluster.\n",
    "- Interpretasi: Titik \"elbow\" pada grafik adalah jumlah cluster optimal, di mana penurunan WCSS mulai melambat secara signifikan."
   ]
  },
  {
   "cell_type": "code",
   "execution_count": 9,
   "metadata": {
    "id": "jFoggs7LOTkR"
   },
   "outputs": [],
   "source": [
    "def elbow_method(data, max_k=10):\n",
    "    wcss_values = []\n",
    "    for k in range(1, max_k + 1):\n",
    "        clusters, centroids = kmeans(data, k)\n",
    "        wcss = calculate_wcss(data, clusters, centroids)\n",
    "        wcss_values.append(wcss)\n",
    "    return wcss_values"
   ]
  },
  {
   "cell_type": "markdown",
   "metadata": {
    "id": "v2-V3MOdOiMh"
   },
   "source": [
    "# **Main Program**"
   ]
  },
  {
   "cell_type": "code",
   "execution_count": 10,
   "metadata": {
    "colab": {
     "base_uri": "https://localhost:8080/"
    },
    "id": "QcAhRMMdw60S",
    "outputId": "a34c7e11-76a6-44d1-b8d2-5249eb2e7999"
   },
   "outputs": [],
   "source": [
    "if __name__ == \"__main__\":\n",
    "    df = pd.read_csv('world-data-2023.csv')\n",
    "    data['Country'] = df['Country']\n",
    "    gdp_data = data[['Country', 'GDP']]"
   ]
  },
  {
   "cell_type": "markdown",
   "metadata": {
    "id": "7cnrlRlfOxYC"
   },
   "source": [
    "**Normalisasi Data**\n",
    "- Data GDP dinormalisasi menggunakan Standard Scaler agar memiliki distribusi dengan rata-rata 0 dan standar deviasi 1."
   ]
  },
  {
   "cell_type": "code",
   "execution_count": 11,
   "metadata": {
    "colab": {
     "base_uri": "https://localhost:8080/"
    },
    "id": "oKewmMoDUqG6",
    "outputId": "6a63236e-6071-4877-df8f-51878e9eecf9"
   },
   "outputs": [
    {
     "name": "stderr",
     "output_type": "stream",
     "text": [
      "C:\\Users\\Taufiq\\AppData\\Local\\Temp\\ipykernel_24264\\1860807136.py:3: SettingWithCopyWarning: \n",
      "A value is trying to be set on a copy of a slice from a DataFrame.\n",
      "Try using .loc[row_indexer,col_indexer] = value instead\n",
      "\n",
      "See the caveats in the documentation: https://pandas.pydata.org/pandas-docs/stable/user_guide/indexing.html#returning-a-view-versus-a-copy\n",
      "  gdp_data.loc[:, 'Scaled_GDP'] = scaler.fit_transform(gdp_data[['GDP']])\n"
     ]
    }
   ],
   "source": [
    "from sklearn.preprocessing import StandardScaler\n",
    "scaler = StandardScaler()\n",
    "gdp_data.loc[:, 'Scaled_GDP'] = scaler.fit_transform(gdp_data[['GDP']])\n",
    "scaled_gdp = gdp_data['Scaled_GDP'].values.tolist()"
   ]
  },
  {
   "cell_type": "markdown",
   "metadata": {
    "id": "kl7671ehoFoL"
   },
   "source": [
    "# **K-Means Clustering**\n",
    "- Menentukan jumlah cluster optimal menggunakan Elbow Method dengan menghitung WCSS.\n",
    "- Mengelompokkan data berdasarkan K-Means dan menghasilkan label cluster."
   ]
  },
  {
   "cell_type": "markdown",
   "metadata": {
    "id": "z_nIUlJXPF4L"
   },
   "source": [
    "**Elbow Method**\n",
    "- Dilakukan iterasi untuk menghitung WCSS pada berbagai nilai *K* (misalnya *K*\n",
    "= 1 hingga *K*\n",
    "=\n",
    "10).\n",
    "- Grafik Elbow Method dibuat untuk menemukan *K* optimal."
   ]
  },
  {
   "cell_type": "code",
   "execution_count": 12,
   "metadata": {
    "colab": {
     "base_uri": "https://localhost:8080/"
    },
    "id": "GpLYsiVauon5",
    "outputId": "5ecf108a-26fa-4886-8ec3-9379888aff76"
   },
   "outputs": [
    {
     "name": "stdout",
     "output_type": "stream",
     "text": [
      "Running Elbow Method...\n",
      "Converged after 2 iterations.\n",
      "Converged after 2 iterations.\n",
      "Converged after 10 iterations.\n",
      "Converged after 12 iterations.\n",
      "Converged after 21 iterations.\n",
      "Converged after 29 iterations.\n",
      "Elbow Method executed in 0.0198 seconds\n",
      "WCSS Values: [191.0000000000001, 49.14438870671269, 33.46507292569465, 15.443673298051518, 13.927062519634367, 12.64592354742115]\n"
     ]
    }
   ],
   "source": [
    "max_k = 6\n",
    "print(\"Running Elbow Method...\")\n",
    "start_time = time.time()\n",
    "wcss_values = elbow_method(scaled_gdp, max_k=max_k)\n",
    "end_time = time.time()\n",
    "\n",
    "print(f\"Elbow Method executed in {end_time - start_time:.4f} seconds\")\n",
    "print(\"WCSS Values:\", wcss_values)"
   ]
  },
  {
   "cell_type": "markdown",
   "metadata": {
    "id": "w95j9QtePaF2"
   },
   "source": [
    "**Grafik Elbow Method**"
   ]
  },
  {
   "cell_type": "code",
   "execution_count": 13,
   "metadata": {
    "colab": {
     "base_uri": "https://localhost:8080/",
     "height": 472
    },
    "id": "7Fa0QbVQPeee",
    "outputId": "2be1515b-7f63-4b1c-bff4-789778e9219e"
   },
   "outputs": [
    {
     "data": {
      "image/png": "[encoded data removed]",
      "text/plain": [
       "<Figure size 640x480 with 1 Axes>"
      ]
     },
     "metadata": {},
     "output_type": "display_data"
    }
   ],
   "source": [
    "plt.plot(range(1, max_k + 1), wcss_values, marker='o', linestyle='--', color='b')\n",
    "plt.title('Elbow Method for Optimal k')\n",
    "plt.xlabel('Number of Clusters (k)')\n",
    "plt.ylabel('WCSS')\n",
    "plt.show()"
   ]
  },
  {
   "cell_type": "markdown",
   "metadata": {
    "id": "55fXCuJZP18D"
   },
   "source": [
    "**K Means**"
   ]
  },
  {
   "cell_type": "code",
   "execution_count": 14,
   "metadata": {
    "colab": {
     "base_uri": "https://localhost:8080/"
    },
    "id": "y4rAnCyMP3jJ",
    "outputId": "49c37e46-14a1-48be-8fd7-513ec9d948e4"
   },
   "outputs": [
    {
     "name": "stdout",
     "output_type": "stream",
     "text": [
      "Running K-Means with k=2...\n",
      "Converged after 6 iterations.\n",
      "K-Means executed in 0.0020 seconds\n",
      "Cluster Results:\n",
      "Cluster 1:\n",
      "[1.7321061417866597, 2.4193404192876296, 2.260500883191981, 3.765533230784098, 5.502707704790719, 3.6048708210759624, 2.6675724774885525, 7.402864917783822, 1.5255198436680473, 2.2043187600824883, 2.7102375797438922, 1.7343130904559332, 3.937073637088297]\n",
      "Cluster 2:\n",
      "[-0.37931936281508105, -0.38519639055686034, -0.14738049542054954, -0.40383307582743233, -0.2632106295657014, -0.4060255401816221, 0.28252799279241164, -0.3876639724039881, 0.2773804584645849, -0.34841355628680115, -0.3889641145451173, -0.3493864789307345, 0.05642221059330114, -0.40067427954935736, -0.31171598199420947, 0.4054144204822089, -0.40579211416564415, -0.38656042702594157, -0.40492044548172484, -0.3458183161542754, -0.3778644392176746, -0.3804889083109551, -0.38797660094028413, -0.2764847362495992, -0.38447740550496046, -0.4040509284061227, -0.31830775558979496, -0.40563496593253223, -0.36704038945184375, -0.3490999535988782, -0.4052684097483553, -0.39128839116206526, 0.025289751009879267, 0.08905872941282057, -0.4068587336119928, -0.39204830710510163, -0.31372431502675735, -0.31581239383105597, -0.2549289940791531, -0.3709213481916745, -0.029785399658310237, -0.3359430695388054, 0.12637386708430873, -0.4035799678324928, -0.4077651959092457, -0.2719634592834842, -0.2435344639831758, 0.05735046708322664, -0.3671429952564864, -0.39173136742498305, -0.40550714115773256, -0.36043430662335935, -0.4028535195087579, -0.26094753560799605, -0.4001723180969965, 0.0044503942777428945, -0.38307527542795256, -0.40597011013709494, -0.3814070833479728, -0.30571613307526774, -0.08610192277719508, -0.40679349349278976, -0.29076445719616234, -0.38779082025158557, -0.40662099369143406, -0.40210162900233526, -0.39561701649017383, -0.3701054987208167, -0.16124743193472746, -0.3715002653559918, 1.3117056711378037, 0.2758902371234019, -0.04883893958896632, 0.18881479859628034, 0.19865262038982376, -0.3833825391515229, -0.34143993325443295, -0.13174208380744307, -0.261876868721392, -0.4083821948360537, -0.20153045881953405, -0.3956852087760997, -0.3807451110743892, -0.35623744286058817, -0.3266471567761508, -0.4048998499438785, -0.40396149087878513, -0.3286313231439746, -0.3986085395157422, -0.32533706734328227, -0.2993810154563231, -0.38703203514956097, -0.3968963687628227, 0.15192702014704343, -0.3998745689362931, -0.38176532800658225, -0.385952556836812, -0.40834125875850386, -0.3970085083910788, -0.38688363947468407, -0.4080635623269192, -0.3903038578649355, -0.39763707010820487, -0.38738720777135355, -0.40023505320930614, -0.22618040126941405, -0.38572505043068017, -0.2917244713154018, -0.38967193895971286, -0.40847695709747006, -0.361580373888623, 0.9887148092269527, -0.09059660310713412, -0.389434618935727, -0.38880863724863873, 0.28015611086841874, -0.35933822715646957, -0.39297031744865946, 0.21131536614250926, -0.29034525688765234, 0.059233304827589976, -0.40824485218885903, -0.30599718045403673, -0.3702988502387085, -0.3500455872266051, -0.059977265046161514, 0.1705175463881955, 0.5015762576239577, -0.04331737282987138, -0.12666255361894518, -0.024269726678448032, -0.39312143434422336, -0.4070658459479951, -0.4054188322425095, -0.4074126430041593, -0.40737379896342035, -0.4061636214807542, -0.4080219290994988, 0.8102438444018699, -0.3724378651065017, -0.3296567443821594, -0.40606998930559884, -0.4026226826689823, 0.16324214724031225, -0.24662934165369046, -0.32607053760643623, -0.40649081869051473, -0.4014248379822386, 0.1315289694421412, -0.3902387351840228, -0.27954557515434625, -0.37962536636164945, -0.40255539083756253, 0.40729929638863077, 0.6720761904088276, -0.3465720167727501, -0.3962047613649928, -0.31156747417966896, 0.4270013145630008, -0.40610888396690015, -0.4002884813889822, -0.40798913093947814, -0.37163527950804637, -0.3490427049248371, 0.7509780353207713, -0.3460245737066448, -0.4086087364770765, -0.3558223654232557, -0.17229367513965174, 0.23868607727746957, -0.3225292757459827, -0.31964650691045404, -0.4072717249475298, 0.3327871229971139, -0.006063785230585785, -0.3673093751746607, -0.37322698943219107, -0.37572329847072444]\n",
      "Centroids: [3.1897661159406216, -0.2329604466698207]\n"
     ]
    }
   ],
   "source": [
    "optimal_k = 2\n",
    "print(f\"Running K-Means with k={optimal_k}...\")\n",
    "start_time = time.time()\n",
    "clusters, centroids = kmeans(scaled_gdp, optimal_k)\n",
    "end_time = time.time()\n",
    "\n",
    "print(f\"K-Means executed in {end_time - start_time:.4f} seconds\")\n",
    "print(\"Cluster Results:\")\n",
    "for i, cluster in enumerate(clusters):\n",
    "    print(f\"Cluster {i + 1}:\")\n",
    "    print(cluster)\n",
    "print(\"Centroids:\", centroids)"
   ]
  },
  {
   "cell_type": "markdown",
   "metadata": {
    "id": "zvTjFO9AP8wu"
   },
   "source": [
    "**Hasil Cluster**"
   ]
  },
  {
   "cell_type": "code",
   "execution_count": 15,
   "metadata": {
    "colab": {
     "base_uri": "https://localhost:8080/"
    },
    "id": "__owki0YP_IR",
    "outputId": "5103c86a-87dc-4818-80f0-142ce0b445bf"
   },
   "outputs": [
    {
     "name": "stdout",
     "output_type": "stream",
     "text": [
      "\n",
      "Clustered Countries:\n",
      "Cluster 1: ['Australia', 'Brazil', 'Canada', 'France', 'Germany', 'India', 'Italy', 'Japan', 'Mexico', 'Russia', 'South Korea', 'Spain', 'United Kingdom']\n",
      "Cluster 2: ['Afghanistan', 'Albania', 'Algeria', 'Andorra', 'Angola', 'Antigua and Barbuda', 'Argentina', 'Armenia', 'Austria', 'Azerbaijan', 'The Bahamas', 'Bahrain', 'Bangladesh', 'Barbados', 'Belarus', 'Belgium', 'Belize', 'Benin', 'Bhutan', 'Bolivia', 'Bosnia and Herzegovina', 'Botswana', 'Brunei', 'Bulgaria', 'Burkina Faso', 'Burundi', 'Ivory Coast', 'Cape Verde', 'Cambodia', 'Cameroon', 'Central African Republic', 'Chad', 'Chile', 'Colombia', 'Comoros', 'Republic of the Congo', 'Costa Rica', 'Croatia', 'Cuba', 'Cyprus', 'Czech Republic', 'Democratic Republic of the Congo', 'Denmark', 'Djibouti', 'Dominica', 'Dominican Republic', 'Ecuador', 'Egypt', 'El Salvador', 'Equatorial Guinea', 'Eritrea', 'Estonia', 'Eswatini', 'Ethiopia', 'Fiji', 'Finland', 'Gabon', 'The Gambia', 'Georgia', 'Ghana', 'Greece', 'Grenada', 'Guatemala', 'Guinea', 'Guinea-Bissau', 'Guyana', 'Haiti', 'Honduras', 'Hungary', 'Iceland', 'Indonesia', 'Iran', 'Iraq', 'Republic of Ireland', 'Israel', 'Jamaica', 'Jordan', 'Kazakhstan', 'Kenya', 'Kiribati', 'Kuwait', 'Kyrgyzstan', 'Laos', 'Latvia', 'Lebanon', 'Lesotho', 'Liberia', 'Libya', 'Liechtenstein', 'Lithuania', 'Luxembourg', 'Madagascar', 'Malawi', 'Malaysia', 'Maldives', 'Mali', 'Malta', 'Marshall Islands', 'Mauritania', 'Mauritius', 'Federated States of Micronesia', 'Moldova', 'Monaco', 'Mongolia', 'Montenegro', 'Morocco', 'Mozambique', 'Myanmar', 'Namibia', 'Nauru', 'Nepal', 'Netherlands', 'New Zealand', 'Nicaragua', 'Niger', 'Nigeria', 'North Korea', 'North Macedonia', 'Norway', 'Oman', 'Pakistan', 'Palau', 'Panama', 'Papua New Guinea', 'Paraguay', 'Peru', 'Philippines', 'Poland', 'Portugal', 'Qatar', 'Romania', 'Rwanda', 'Saint Kitts and Nevis', 'Saint Lucia', 'Saint Vincent and the Grenadines', 'Samoa', 'San Marino', 'Sao Tome and Principe', 'Saudi Arabia', 'Senegal', 'Serbia', 'Seychelles', 'Sierra Leone', 'Singapore', 'Slovakia', 'Slovenia', 'Solomon Islands', 'Somalia', 'South Africa', 'South Sudan', 'Sri Lanka', 'Sudan', 'Suriname', 'Sweden', 'Switzerland', 'Syria', 'Tajikistan', 'Tanzania', 'Thailand', 'East Timor', 'Togo', 'Tonga', 'Trinidad and Tobago', 'Tunisia', 'Turkey', 'Turkmenistan', 'Tuvalu', 'Uganda', 'Ukraine', 'United Arab Emirates', 'Uruguay', 'Uzbekistan', 'Vanuatu', 'Venezuela', 'Vietnam', 'Yemen', 'Zambia', 'Zimbabwe']\n"
     ]
    }
   ],
   "source": [
    "clustered_countries = [[] for _ in range(optimal_k)]\n",
    "cluster_labels = []\n",
    "\n",
    "for idx, point in enumerate(scaled_gdp):\n",
    "    for cluster_idx, cluster in enumerate(clusters):\n",
    "        if point in cluster:\n",
    "            clustered_countries[cluster_idx].append(gdp_data.iloc[idx]['Country'])\n",
    "            cluster_labels.append(cluster_idx)\n",
    "\n",
    "print(\"\\nClustered Countries:\")\n",
    "for i, countries in enumerate(clustered_countries):\n",
    "    print(f\"Cluster {i + 1}: {countries}\")"
   ]
  },
  {
   "cell_type": "markdown",
   "metadata": {
    "id": "iHmBv8xcp2mQ"
   },
   "source": [
    "**Skor Silhoutte**"
   ]
  },
  {
   "cell_type": "code",
   "execution_count": 16,
   "metadata": {
    "colab": {
     "base_uri": "https://localhost:8080/"
    },
    "id": "iKpbUbnIUQk9",
    "outputId": "6b86234a-6ed0-477e-95f6-5b8d37a86ddf"
   },
   "outputs": [
    {
     "name": "stdout",
     "output_type": "stream",
     "text": [
      "\n",
      "Silhouette Score for k=2: 0.8860\n"
     ]
    },
    {
     "name": "stderr",
     "output_type": "stream",
     "text": [
      "C:\\Users\\Taufiq\\AppData\\Local\\Temp\\ipykernel_24264\\1095253740.py:2: SettingWithCopyWarning: \n",
      "A value is trying to be set on a copy of a slice from a DataFrame.\n",
      "Try using .loc[row_indexer,col_indexer] = value instead\n",
      "\n",
      "See the caveats in the documentation: https://pandas.pydata.org/pandas-docs/stable/user_guide/indexing.html#returning-a-view-versus-a-copy\n",
      "  gdp_data['Cluster'] = cluster_labels\n"
     ]
    }
   ],
   "source": [
    "from sklearn.metrics import silhouette_score\n",
    "gdp_data['Cluster'] = cluster_labels\n",
    "silhouette_avg = silhouette_score([[x] for x in scaled_gdp], cluster_labels)\n",
    "print(f\"\\nSilhouette Score for k={optimal_k}: {silhouette_avg:.4f}\")"
   ]
  },
  {
   "cell_type": "code",
   "execution_count": 17,
   "metadata": {
    "colab": {
     "base_uri": "https://localhost:8080/",
     "height": 559
    },
    "id": "BfMILA3EVpDs",
    "outputId": "aa1deb9f-042b-4368-cbb7-f5b5421be216"
   },
   "outputs": [
    {
     "name": "stderr",
     "output_type": "stream",
     "text": [
      "C:\\Users\\Taufiq\\AppData\\Local\\Temp\\ipykernel_24264\\3107950727.py:3: FutureWarning: \n",
      "\n",
      "Passing `palette` without assigning `hue` is deprecated and will be removed in v0.14.0. Assign the `x` variable to `hue` and set `legend=False` for the same effect.\n",
      "\n",
      "  sns.stripplot(x=gdp_data['Cluster'], y=gdp_data['GDP'], jitter=True, palette={'0': 'blue', '1': 'red'} )\n"
     ]
    },
    {
     "data": {
      "image/png": "[encoded data removed]",
      "text/plain": [
       "<Figure size 640x480 with 1 Axes>"
      ]
     },
     "metadata": {},
     "output_type": "display_data"
    }
   ],
   "source": [
    "import seaborn as sns\n",
    "\n",
    "sns.stripplot(x=gdp_data['Cluster'], y=gdp_data['GDP'], jitter=True, palette={'0': 'blue', '1': 'red'} )\n",
    "plt.xlabel('Cluster (GDP)')\n",
    "plt.ylabel('GDP')\n",
    "plt.title('Clustering Based on GDP')\n",
    "plt.show()"
   ]
  },
  {
   "cell_type": "markdown",
   "metadata": {
    "id": "D48AG-BUp7Yu"
   },
   "source": [
    "# **Penjelasan Hasil K-Means Clustering**\n",
    "\n",
    "1. Elbow Method Execution\n",
    "- Waktu Eksekusi: Elbow Method memakan waktu 0.0404 detik dengan 6 iterasi untuk menentukan jumlah cluster optimal.\n",
    "- Interpretasi: Waktu yang relatif singkat menunjukkan bahwa proses perhitungan WCSS untuk berbagai nilai k dilakukan dengan efisien. 6 iterasi mencerminkan jumlah langkah yang diperlukan untuk mencapai hasil yang stabil dalam grafik Elbow, yang membantu menentukan jumlah cluster optimal.\n",
    "2. K-Means Execution\n",
    "- Waktu Eksekusi: K-Means memakan waktu 0.0044 detik, yang menunjukkan bahwa algoritma clustering dijalankan dengan cepat pada dataset yang diberikan.\n",
    "- Interpretasi: Waktu yang sangat cepat ini menunjukkan efisiensi dari algoritma K-Means dalam mengelompokkan data berdasarkan GDP negara.\n",
    "3. Clustered Countries\n",
    "- Cluster 1: ['China', 'United States']\n",
    "- Cluster 2: Semua negara selain China dan United States.\n",
    "- Interpretasi:\n",
    "- Cluster 1 berisi hanya dua negara besar, yaitu China dan United States, yang memiliki GDP yang jauh lebih tinggi dibandingkan dengan negara lainnya. Kedua negara ini membentuk cluster terpisah karena perbedaan signifikan dalam nilai GDP mereka.\n",
    "- Cluster 2 mencakup semua negara lainnya, yang memiliki GDP lebih rendah dan berada dalam rentang nilai yang lebih seragam. Semua negara selain China dan Amerika dikelompokkan dalam satu cluster karena kesamaan dalam GDP mereka.\n",
    "4. Silhouette Score\n",
    "- Nilai Silhouette Score: 0.9772 menunjukkan bahwa cluster yang dihasilkan sangat baik.\n",
    "- Interpretasi:\n",
    "Nilai Silhouette Score berkisar antara -1 dan 1. Nilai yang mendekati 1, seperti 0.9772, menunjukkan bahwa data dalam cluster sangat terpisah dan terkelompok dengan baik.\n",
    "Ini menunjukkan bahwa K-Means berhasil mengelompokkan negara-negara dengan GDP serupa dengan sangat baik, di mana China dan Amerika memiliki cluster terpisah yang sangat berbeda dari negara lainnya."
   ]
  },
  {
   "cell_type": "markdown",
   "metadata": {
    "id": "dN6w59VeMk8C"
   },
   "source": [
    "# **Hierarchical Clustering**\n"
   ]
  },
  {
   "cell_type": "markdown",
   "metadata": {
    "id": "M8wZwnFrfm6b"
   },
   "source": [
    "**Complete Linkage**\n",
    "- Menggunakan jarak maksimum antar data dalam cluster.\n",
    "1. import library\n",
    "2. fungsi jarak matrix\n",
    "3. fungsi complete linkage hierarchical clustering\n",
    "4. fungsi dendogram\n",
    "5. proses clustering"
   ]
  },
  {
   "cell_type": "code",
   "execution_count": 18,
   "metadata": {
    "colab": {
     "base_uri": "https://localhost:8080/",
     "height": 780
    },
    "id": "emJw8Or6_37Y",
    "outputId": "e78bb725-d72f-46a1-d306-44ccb563c431"
   },
   "outputs": [
    {
     "name": "stdout",
     "output_type": "stream",
     "text": [
      "Waktu Eksekusi: 2.9761 detik\n"
     ]
    },
    {
     "data": {
      "image/png": "[encoded data removed]",
      "text/plain": [
       "<Figure size 1000x700 with 1 Axes>"
      ]
     },
     "metadata": {},
     "output_type": "display_data"
    },
    {
     "name": "stdout",
     "output_type": "stream",
     "text": [
      "Silhouette Score: 0.8650\n"
     ]
    },
    {
     "name": "stderr",
     "output_type": "stream",
     "text": [
      "C:\\Users\\Taufiq\\AppData\\Local\\Temp\\ipykernel_24264\\3724588739.py:75: SettingWithCopyWarning: \n",
      "A value is trying to be set on a copy of a slice from a DataFrame.\n",
      "Try using .loc[row_indexer,col_indexer] = value instead\n",
      "\n",
      "See the caveats in the documentation: https://pandas.pydata.org/pandas-docs/stable/user_guide/indexing.html#returning-a-view-versus-a-copy\n",
      "  gdp_data['Cluster'] = cluster_labels_manual\n"
     ]
    }
   ],
   "source": [
    "import numpy as np\n",
    "import pandas as pd\n",
    "import time\n",
    "from sklearn.metrics import silhouette_score\n",
    "import matplotlib.pyplot as plt\n",
    "from scipy.cluster.hierarchy import dendrogram\n",
    "\n",
    "def calculate_distance_matrix(data):\n",
    "    n = len(data)\n",
    "    distance_matrix = np.zeros((n, n))\n",
    "    for i in range(n):\n",
    "        for j in range(i + 1, n):\n",
    "            distance_matrix[i, j] = np.sqrt(np.sum((data[i] - data[j]) ** 2))\n",
    "            distance_matrix[j, i] = distance_matrix[i, j]\n",
    "    return distance_matrix\n",
    "\n",
    "def hierarchical_clustering_manual(data):\n",
    "    n = len(data)\n",
    "    clusters = {i: [i] for i in range(n)}\n",
    "    distance_matrix = calculate_distance_matrix(data)\n",
    "    linkage_matrix = []\n",
    "    current_cluster_id = n\n",
    "\n",
    "    while len(clusters) > 1:\n",
    "        min_distance = float('inf')\n",
    "        merge_a, merge_b = -1, -1\n",
    "\n",
    "        for i in clusters:\n",
    "            for j in clusters:\n",
    "                if i != j:\n",
    "                    max_dist = max(\n",
    "                        distance_matrix[p1, p2]\n",
    "                        for p1 in clusters[i]\n",
    "                        for p2 in clusters[j]\n",
    "                    )\n",
    "                    if max_dist < min_distance:\n",
    "                        min_distance = max_dist\n",
    "                        merge_a, merge_b = i, j\n",
    "\n",
    "        new_cluster_id = current_cluster_id\n",
    "        clusters[new_cluster_id] = clusters[merge_a] + clusters[merge_b]\n",
    "        del clusters[merge_a]\n",
    "        del clusters[merge_b]\n",
    "\n",
    "        linkage_matrix.append([merge_a, merge_b, min_distance, len(clusters[new_cluster_id])])\n",
    "        current_cluster_id += 1\n",
    "\n",
    "    return np.array(linkage_matrix)\n",
    "\n",
    "def plot_dendrogram_complete(linkage_matrix, num_samples):\n",
    "    plt.figure(figsize=(10, 7))\n",
    "    plt.title(\"Dendrogram (Complete Linkage)\")\n",
    "    plt.xlabel(\"Data Points\")\n",
    "    plt.ylabel(\"Euclidean Distance\")\n",
    "    dendrogram(linkage_matrix, labels=np.arange(num_samples), leaf_rotation=90)\n",
    "    plt.show()\n",
    "\n",
    "\n",
    "\n",
    "scaled_gdp_2d = gdp_data[['Scaled_GDP']].values\n",
    "\n",
    "start_time = time.time()\n",
    "linkage_matrix_manual = hierarchical_clustering_manual(scaled_gdp_2d)\n",
    "execution_time_manual = time.time() - start_time\n",
    "\n",
    "print(f\"Waktu Eksekusi: {execution_time_manual:.4f} detik\")\n",
    "\n",
    "plot_dendrogram_complete(linkage_matrix_manual, num_samples=len(scaled_gdp_2d))\n",
    "\n",
    "\n",
    "from scipy.cluster.hierarchy import fcluster\n",
    "num_clusters = 3\n",
    "cluster_labels_manual = fcluster(linkage_matrix_manual, t=num_clusters, criterion='maxclust')\n",
    "\n",
    "gdp_data['Cluster'] = cluster_labels_manual\n",
    "\n",
    "silhouette_avg_manual = silhouette_score(scaled_gdp_2d, cluster_labels_manual)\n",
    "print(f\"Silhouette Score: {silhouette_avg_manual:.4f}\")\n",
    "\n"
   ]
  },
  {
   "cell_type": "markdown",
   "metadata": {
    "id": "1Y2OTvnvD4hw"
   },
   "source": [
    "**Single Linkage**\n",
    "- Menggunakan jarak minimum antar data dalam cluster."
   ]
  },
  {
   "cell_type": "code",
   "execution_count": 22,
   "metadata": {
    "colab": {
     "base_uri": "https://localhost:8080/",
     "height": 676
    },
    "id": "u9OyB2l1DGB4",
    "outputId": "ff9359a1-cb1e-4bbe-bef7-144c7ee8227d"
   },
   "outputs": [
    {
     "name": "stdout",
     "output_type": "stream",
     "text": [
      "Waktu Eksekusi (Single Linkage): 2.6695 detik\n"
     ]
    },
    {
     "data": {
      "image/png": "[encoded data removed]",
      "text/plain": [
       "<Figure size 1000x700 with 1 Axes>"
      ]
     },
     "metadata": {},
     "output_type": "display_data"
    },
    {
     "name": "stdout",
     "output_type": "stream",
     "text": [
      "Silhouette Score (Single Linkage): 0.8971\n"
     ]
    }
   ],
   "source": [
    "def hierarchical_clustering_single(data):\n",
    "    n = len(data)\n",
    "    clusters = {i: [i] for i in range(n)}\n",
    "    distance_matrix = calculate_distance_matrix(data)\n",
    "    linkage_matrix = []\n",
    "    current_cluster_id = n\n",
    "\n",
    "    while len(clusters) > 1:\n",
    "        min_distance = float('inf')\n",
    "        merge_a, merge_b = -1, -1\n",
    "\n",
    "        for i in clusters:\n",
    "            for j in clusters:\n",
    "                if i != j:\n",
    "                    min_dist = min(\n",
    "                        distance_matrix[p1, p2]\n",
    "                        for p1 in clusters[i]\n",
    "                        for p2 in clusters[j]\n",
    "                    )\n",
    "                    if min_dist < min_distance:\n",
    "                        min_distance = min_dist\n",
    "                        merge_a, merge_b = i, j\n",
    "\n",
    "        new_cluster_id = current_cluster_id\n",
    "        clusters[new_cluster_id] = clusters[merge_a] + clusters[merge_b]\n",
    "        del clusters[merge_a]\n",
    "        del clusters[merge_b]\n",
    "\n",
    "        linkage_matrix.append([merge_a, merge_b, min_distance, len(clusters[new_cluster_id])])\n",
    "        current_cluster_id += 1\n",
    "\n",
    "    return np.array(linkage_matrix)\n",
    "\n",
    "def plot_dendrogram_single(linkage_matrix, num_samples):\n",
    "    plt.figure(figsize=(10, 7))\n",
    "    plt.title(\"Dendrogram (Single Linkage)\")\n",
    "    plt.xlabel(\"Data Points\")\n",
    "    plt.ylabel(\"Euclidean Distance\")\n",
    "    dendrogram(linkage_matrix, labels=np.arange(num_samples), leaf_rotation=90)\n",
    "    plt.show()\n",
    "\n",
    "start_time = time.time()\n",
    "linkage_matrix_single = hierarchical_clustering_single(scaled_gdp_2d)\n",
    "execution_time_single = time.time() - start_time\n",
    "\n",
    "print(f\"Waktu Eksekusi (Single Linkage): {execution_time_single:.4f} detik\")\n",
    "plot_dendrogram_single(linkage_matrix_single, num_samples=len(scaled_gdp_2d))\n",
    "\n",
    "cluster_labels_single = fcluster(linkage_matrix_single, t=2, criterion='maxclust')\n",
    "\n",
    "silhouette_avg_single = silhouette_score(scaled_gdp_2d, cluster_labels_single)\n",
    "print(f\"Silhouette Score (Single Linkage): {silhouette_avg_single:.4f}\")\n"
   ]
  },
  {
   "cell_type": "markdown",
   "metadata": {
    "id": "seTCeBPiD7Gy"
   },
   "source": [
    "**Average Linkage**\n",
    "- Menggunakan rata-rata jarak antar data dalam cluster."
   ]
  },
  {
   "cell_type": "code",
   "execution_count": 20,
   "metadata": {
    "colab": {
     "base_uri": "https://localhost:8080/",
     "height": 676
    },
    "id": "dW9c0vgJDLuE",
    "outputId": "6fe11115-35a9-469b-9faa-928ae60272f9"
   },
   "outputs": [
    {
     "name": "stdout",
     "output_type": "stream",
     "text": [
      "Waktu Eksekusi (Average Linkage): 17.9976 detik\n"
     ]
    },
    {
     "data": {
      "image/png": "[encoded data removed]",
      "text/plain": [
       "<Figure size 1000x700 with 1 Axes>"
      ]
     },
     "metadata": {},
     "output_type": "display_data"
    },
    {
     "name": "stdout",
     "output_type": "stream",
     "text": [
      "Silhouette Score (Average Linkage): 0.8650\n"
     ]
    }
   ],
   "source": [
    "def hierarchical_clustering_average(data):\n",
    "    n = len(data)\n",
    "    clusters = {i: [i] for i in range(n)}\n",
    "    distance_matrix = calculate_distance_matrix(data)\n",
    "    linkage_matrix = []\n",
    "    current_cluster_id = n\n",
    "\n",
    "    while len(clusters) > 1:\n",
    "        min_distance = float('inf')\n",
    "        merge_a, merge_b = -1, -1\n",
    "\n",
    "        for i in clusters:\n",
    "            for j in clusters:\n",
    "                if i != j:\n",
    "                    avg_dist = np.mean(\n",
    "                        [distance_matrix[p1, p2]\n",
    "                         for p1 in clusters[i]\n",
    "                         for p2 in clusters[j]]\n",
    "                    )\n",
    "                    if avg_dist < min_distance:\n",
    "                        min_distance = avg_dist\n",
    "                        merge_a, merge_b = i, j\n",
    "\n",
    "        new_cluster_id = current_cluster_id\n",
    "        clusters[new_cluster_id] = clusters[merge_a] + clusters[merge_b]\n",
    "        del clusters[merge_a]\n",
    "        del clusters[merge_b]\n",
    "\n",
    "        linkage_matrix.append([merge_a, merge_b, min_distance, len(clusters[new_cluster_id])])\n",
    "        current_cluster_id += 1\n",
    "\n",
    "    return np.array(linkage_matrix)\n",
    "\n",
    "def plot_dendrogram_average(linkage_matrix, num_samples):\n",
    "    plt.figure(figsize=(10, 7))\n",
    "    plt.title(\"Dendrogram (Average Linkage)\")\n",
    "    plt.xlabel(\"Data Points\")\n",
    "    plt.ylabel(\"Euclidean Distance\")\n",
    "    dendrogram(linkage_matrix, labels=np.arange(num_samples), leaf_rotation=90)\n",
    "    plt.show()\n",
    "\n",
    "start_time = time.time()\n",
    "linkage_matrix_average = hierarchical_clustering_average(scaled_gdp_2d)\n",
    "execution_time_average = time.time() - start_time\n",
    "\n",
    "print(f\"Waktu Eksekusi (Average Linkage): {execution_time_average:.4f} detik\")\n",
    "plot_dendrogram_average(linkage_matrix_average, num_samples=len(scaled_gdp_2d))\n",
    "\n",
    "cluster_labels_average = fcluster(linkage_matrix_average, t=3, criterion='maxclust')\n",
    "\n",
    "silhouette_avg_average = silhouette_score(scaled_gdp_2d, cluster_labels_average)\n",
    "print(f\"Silhouette Score (Average Linkage): {silhouette_avg_average:.4f}\")\n"
   ]
  },
  {
   "cell_type": "code",
   "execution_count": 23,
   "metadata": {
    "colab": {
     "base_uri": "https://localhost:8080/"
    },
    "id": "ZvLbGdHaHRH_",
    "outputId": "e0a0883f-4a85-4ebb-f879-e9208db9b1ac"
   },
   "outputs": [
    {
     "name": "stdout",
     "output_type": "stream",
     "text": [
      "\n",
      "=== Complete Linkage ===\n",
      "\n",
      "=== Cluster Results (Complete Linkage) ===\n",
      "\n",
      "Cluster 1:\n",
      "         Country           GDP\n",
      "0    Afghanistan  1.910135e+10\n",
      "1        Albania  1.527808e+10\n",
      "2        Algeria  1.699882e+11\n",
      "3        Andorra  3.154058e+09\n",
      "4         Angola  9.463542e+10\n",
      "..           ...           ...\n",
      "190    Venezuela  4.823593e+11\n",
      "191      Vietnam  2.619212e+11\n",
      "192        Yemen  2.691440e+10\n",
      "193       Zambia  2.306472e+10\n",
      "194     Zimbabwe  2.144076e+10\n",
      "\n",
      "[186 rows x 2 columns]\n",
      "\n",
      "Cluster 2:\n",
      "            Country           GDP\n",
      "60           France  2.715518e+12\n",
      "64          Germany  3.845630e+12\n",
      "77            India  2.611000e+12\n",
      "185  United Kingdom  2.827113e+12\n",
      "\n",
      "Cluster 3:\n",
      "   Country           GDP\n",
      "85   Japan  5.081770e+12\n",
      "\n",
      "=== Single Linkage ===\n",
      "\n",
      "=== Cluster Results (Single Linkage) ===\n",
      "\n",
      "Cluster 1:\n",
      "         Country           GDP\n",
      "0    Afghanistan  1.910135e+10\n",
      "1        Albania  1.527808e+10\n",
      "2        Algeria  1.699882e+11\n",
      "3        Andorra  3.154058e+09\n",
      "4         Angola  9.463542e+10\n",
      "..           ...           ...\n",
      "190    Venezuela  4.823593e+11\n",
      "191      Vietnam  2.619212e+11\n",
      "192        Yemen  2.691440e+10\n",
      "193       Zambia  2.306472e+10\n",
      "194     Zimbabwe  2.144076e+10\n",
      "\n",
      "[190 rows x 2 columns]\n",
      "\n",
      "Cluster 2:\n",
      "   Country           GDP\n",
      "85   Japan  5.081770e+12\n",
      "\n",
      "=== Average Linkage ===\n",
      "\n",
      "=== Cluster Results (Average Linkage) ===\n",
      "\n",
      "Cluster 1:\n",
      "         Country           GDP\n",
      "0    Afghanistan  1.910135e+10\n",
      "1        Albania  1.527808e+10\n",
      "2        Algeria  1.699882e+11\n",
      "3        Andorra  3.154058e+09\n",
      "4         Angola  9.463542e+10\n",
      "..           ...           ...\n",
      "190    Venezuela  4.823593e+11\n",
      "191      Vietnam  2.619212e+11\n",
      "192        Yemen  2.691440e+10\n",
      "193       Zambia  2.306472e+10\n",
      "194     Zimbabwe  2.144076e+10\n",
      "\n",
      "[186 rows x 2 columns]\n",
      "\n",
      "Cluster 2:\n",
      "            Country           GDP\n",
      "60           France  2.715518e+12\n",
      "64          Germany  3.845630e+12\n",
      "77            India  2.611000e+12\n",
      "185  United Kingdom  2.827113e+12\n",
      "\n",
      "Cluster 3:\n",
      "   Country           GDP\n",
      "85   Japan  5.081770e+12\n"
     ]
    },
    {
     "name": "stderr",
     "output_type": "stream",
     "text": [
      "C:\\Users\\Taufiq\\AppData\\Local\\Temp\\ipykernel_24264\\762342832.py:2: SettingWithCopyWarning: \n",
      "A value is trying to be set on a copy of a slice from a DataFrame.\n",
      "Try using .loc[row_indexer,col_indexer] = value instead\n",
      "\n",
      "See the caveats in the documentation: https://pandas.pydata.org/pandas-docs/stable/user_guide/indexing.html#returning-a-view-versus-a-copy\n",
      "  gdp_data['Country'] = world_data['Country']\n"
     ]
    }
   ],
   "source": [
    "world_data = pd.read_csv('world-data-2023.csv')\n",
    "gdp_data['Country'] = world_data['Country']\n",
    "\n",
    "def print_clusters(data, cluster_labels, method_name):\n",
    "    data['Cluster'] = cluster_labels\n",
    "    print(f\"\\n=== Cluster Results ({method_name}) ===\")\n",
    "    for cluster_id, group in data.groupby('Cluster'):\n",
    "        print(f\"\\nCluster {cluster_id}:\")\n",
    "        print(group[['Country', 'GDP']])\n",
    "\n",
    "print(\"\\n=== Complete Linkage ===\")\n",
    "print_clusters(gdp_data.copy(), cluster_labels_manual, method_name=\"Complete Linkage\")\n",
    "\n",
    "print(\"\\n=== Single Linkage ===\")\n",
    "print_clusters(gdp_data.copy(), cluster_labels_single, method_name=\"Single Linkage\")\n",
    "\n",
    "print(\"\\n=== Average Linkage ===\")\n",
    "print_clusters(gdp_data.copy(), cluster_labels_average, method_name=\"Average Linkage\")\n"
   ]
  },
  {
   "cell_type": "markdown",
   "metadata": {
    "id": "0O_yyy1f6WLJ"
   },
   "source": [
    "# **Penjelasan Hasil Hierarchical clustering**\n",
    "\n",
    "### **1. Complete Linkage**\n",
    "- **Waktu Eksekusi**: **3.2466 detik**\n",
    "- **Silhouette Score**: **0.8868**\n",
    "- **Interpretasi**:\n",
    "  - Waktu eksekusi relatif singkat, menunjukkan bahwa proses clustering menggunakan **Complete Linkage** berjalan cukup efisien.\n",
    "  - **Silhouette Score 0.8868** menunjukkan bahwa cluster yang terbentuk memiliki pemisahan yang cukup jelas dan data di dalam setiap cluster relatif homogen. Ini adalah nilai yang baik, menunjukkan kualitas clustering yang tinggi.\n",
    "\n",
    "- **Hasil Cluster**:\n",
    "  - **Cluster 1**: Berisi **China** dan **United States**, dua negara dengan GDP tertinggi, yang terpisah secara jelas dari negara lainnya.\n",
    "  - **Cluster 2**: Berisi negara-negara dengan GDP yang lebih rendah, mencakup mayoritas negara di dunia.\n",
    "  - **Cluster 3**: Berisi negara-negara dengan GDP menengah, seperti **France**, **Germany**, **India**, **Japan**, dan **United Kingdom**.\n",
    "\n",
    "### **2. Single Linkage**\n",
    "- **Waktu Eksekusi**: **3.2454 detik**\n",
    "- **Silhouette Score**: **0.9668**\n",
    "- **Interpretasi**:\n",
    "  - Waktu eksekusi hampir sama dengan **Complete Linkage**, menunjukkan bahwa **Single Linkage** juga cukup efisien.\n",
    "  - **Silhouette Score 0.9668** menunjukkan kualitas clustering yang sangat baik dengan pemisahan yang sangat jelas antara cluster.\n",
    "  \n",
    "- **Hasil Cluster**:\n",
    "  - **Cluster 1**: Berisi mayoritas negara dengan GDP rendah, hampir sama dengan hasil dari Complete Linkage, berisi lebih dari 190 negara.\n",
    "  - **Cluster 2**: Hanya **China** dengan GDP tertinggi, yang terpisah sebagai cluster sendiri.\n",
    "  - **Cluster 3**: Hanya **United States** dengan GDP yang juga sangat tinggi, juga terpisah sebagai cluster tersendiri.\n",
    "\n",
    "### **3. Average Linkage**\n",
    "- **Waktu Eksekusi**: **24.5917 detik**\n",
    "- **Silhouette Score**: **0.8868**\n",
    "- **Interpretasi**:\n",
    "  - **Waktu eksekusi yang lebih lama (24.5917 detik)** dibandingkan dengan Complete dan Single Linkage menunjukkan bahwa proses perhitungan dalam **Average Linkage** membutuhkan lebih banyak waktu, mungkin karena cara perhitungan jarak rata-rata antar cluster.\n",
    "  - **Silhouette Score 0.8868** yang sama dengan **Complete Linkage** menunjukkan bahwa kualitas cluster tetap baik, meskipun waktu eksekusinya lebih lama.\n",
    "  \n",
    "- **Hasil Cluster**:\n",
    "  - **Cluster 1**: Sama dengan **Complete Linkage** dan **Single Linkage**, berisi **China** dan **United States**.\n",
    "  - **Cluster 2**: Berisi mayoritas negara dengan GDP rendah.\n",
    "  - **Cluster 3**: Negara-negara dengan GDP menengah, seperti **France**, **Germany**, **India**, **Japan**, dan **United Kingdom**.\n",
    "\n",
    "### **Kesimpulan Hasil Hierarchical Clustering**:\n",
    "- **Single Linkage** menghasilkan pemisahan cluster yang paling jelas, dengan **China** dan **United States** masing-masing dikelompokkan ke dalam cluster tersendiri. Ini menunjukkan bahwa dengan **Single Linkage**, negara-negara dengan perbedaan GDP yang sangat besar dapat dipisahkan lebih tajam.\n",
    "- **Complete Linkage** memberikan hasil yang baik dengan nilai **Silhouette Score** yang cukup tinggi, yang menunjukkan pemisahan yang jelas antar cluster.\n",
    "- **Average Linkage** memberikan hasil yang serupa dengan **Complete Linkage** namun membutuhkan waktu eksekusi yang jauh lebih lama. Meskipun demikian, hasil clustering masih tergolong baik."
   ]
  },
  {
   "cell_type": "markdown",
   "metadata": {
    "id": "oBCV7-Jb752z"
   },
   "source": [
    "# **Perbandingan Antar 2 Algoritma**\n",
    "\n",
    "### **1. Waktu Eksekusi**\n",
    "- **K-Means**: **0.0044 detik**\n",
    "  - **Interpretasi**: K-Means sangat cepat dalam memproses data dan mengelompokkan negara berdasarkan GDP.\n",
    "  \n",
    "- **Hierarchical Clustering**:\n",
    "  - **Complete Linkage**: **3.2466 detik**\n",
    "  - **Single Linkage**: **3.2454 detik**\n",
    "  - **Average Linkage**: **24.5917 detik**\n",
    "  - **Interpretasi**:  \n",
    "    - Proses **Hierarchical Clustering** jauh lebih lambat dibandingkan dengan **K-Means**. **Complete Linkage** dan **Single Linkage** memerlukan lebih banyak waktu dibandingkan **K-Means**, meskipun masih dalam rentang detik.\n",
    "    - **Average Linkage** membutuhkan waktu jauh lebih lama, yakni **24.5917 detik**, menunjukkan bahwa perhitungan jarak rata-rata antar cluster lebih kompleks dan memakan waktu lebih lama.\n",
    "\n",
    "### **2. Kualitas Clustering (Silhouette Score)**\n",
    "- **K-Means**: **0.9772**\n",
    "  - **Interpretasi**: Nilai **Silhouette Score** yang sangat tinggi menunjukkan bahwa **K-Means** memberikan pemisahan yang sangat jelas antar cluster, dengan **China** dan **United States** terpisah secara efektif dari negara lainnya.\n",
    "  \n",
    "- **Hierarchical Clustering**:\n",
    "  - **Complete Linkage**: **0.8868**\n",
    "  - **Single Linkage**: **0.9668**\n",
    "  - **Average Linkage**: **0.8868**\n",
    "  - **Interpretasi**:  \n",
    "    - **Single Linkage** menghasilkan **Silhouette Score** yang lebih tinggi (**0.9668**) dibandingkan dengan **Complete Linkage** dan **Average Linkage**, yang masing-masing memiliki **0.8868**. Nilai ini menunjukkan bahwa **Single Linkage** memberikan pemisahan cluster yang sangat baik, hampir setara dengan **K-Means**.\n",
    "    - **Complete Linkage** dan **Average Linkage** menghasilkan skor yang sedikit lebih rendah, tetapi masih menunjukkan pemisahan yang cukup baik antara cluster.\n",
    "\n",
    "### **3. Hasil Clustering**\n",
    "- **K-Means**:\n",
    "  - **Cluster 1**: ['China', 'United States']\n",
    "  - **Cluster 2**: Semua negara selain China dan United States\n",
    "  - **Interpretasi**: K-Means dengan **k=2** berhasil mengelompokkan negara-negara dengan GDP tinggi (**China** dan **United States**) ke dalam cluster terpisah, sementara negara lainnya dikelompokkan ke dalam satu cluster.\n",
    "  \n",
    "- **Hierarchical Clustering**:\n",
    "  - **Complete Linkage**:  \n",
    "    - **Cluster 1**: ['China', 'United States']\n",
    "    - **Cluster 2**: Mayoritas negara dengan GDP rendah\n",
    "    - **Cluster 3**: Negara-negara dengan GDP menengah (seperti **France**, **Germany**, **India**, **Japan**, **United Kingdom**)\n",
    "  - **Single Linkage**:  \n",
    "    - **Cluster 1**: Mayoritas negara dengan GDP rendah\n",
    "    - **Cluster 2**: **China**\n",
    "    - **Cluster 3**: **United States**\n",
    "  - **Average Linkage**:  \n",
    "    - **Cluster 1**: ['China', 'United States']\n",
    "    - **Cluster 2**: Mayoritas negara dengan GDP rendah\n",
    "    - **Cluster 3**: Negara-negara dengan GDP menengah (seperti **France**, **Germany**, **India**, **Japan**, **United Kingdom**)\n",
    "  - **Interpretasi**:  \n",
    "    - **K-Means** berhasil mengelompokkan negara dengan sangat sederhana, memisahkan hanya **China** dan **United States** dari negara lainnya dalam 2 cluster.  \n",
    "    - **Hierarchical Clustering** memberikan hasil yang lebih terperinci, dengan **Complete Linkage** dan **Average Linkage** membagi negara menjadi 3 cluster (GDP tinggi, menengah, dan rendah).  \n",
    "    - **Single Linkage** menghasilkan pemisahan yang lebih tajam, dengan **China** dan **United States** masing-masing dalam cluster tersendiri dan sisanya dikelompokkan bersama.\n",
    "\n",
    "### **4. Analisis Kelebihan dan Kekurangan**\n",
    "\n",
    "#### **K-Means**:\n",
    "- **Kelebihan**:\n",
    "  - **Cepat** dalam waktu eksekusi (0.0044 detik).\n",
    "  - **Sederhana** dalam implementasi dan sangat efisien untuk dataset besar.\n",
    "  - **Hasil** yang jelas, memisahkan **China** dan **United States** dengan sangat baik.\n",
    "  \n",
    "- **Kekurangan**:\n",
    "  - Memerlukan **jumlah cluster (k)** yang sudah ditentukan sebelumnya.\n",
    "  - Tidak selalu memberikan hasil yang terbaik jika ada struktur data yang lebih kompleks.\n",
    "  - **Cluster yang dihasilkan** lebih sederhana (hanya 2 cluster pada kasus ini).\n",
    "\n",
    "#### **Hierarchical Clustering**:\n",
    "- **Kelebihan**:\n",
    "  - **Lebih fleksibel** dalam menghasilkan jumlah cluster yang berbeda tanpa memerlukan jumlah cluster yang ditentukan sebelumnya.\n",
    "  - **Memberikan pemisahan lebih rinci** (misalnya, pemisahan negara berdasarkan GDP tinggi, menengah, dan rendah).\n",
    "  - **Menampilkan hubungan antar cluster** melalui dendrogram.\n",
    "  \n",
    "- **Kekurangan**:\n",
    "  - **Waktu eksekusi yang lebih lama**, terutama pada **Average Linkage**.\n",
    "  - Dapat menjadi **lebih kompleks** dan memakan lebih banyak sumber daya pada dataset besar."
   ]
  },
  {
   "cell_type": "markdown",
   "metadata": {
    "id": "Yt0J-Wvi8_r0"
   },
   "source": [
    "# **Kesimpulan**\n",
    "- **K-Means** lebih cepat dan lebih sederhana, menghasilkan cluster yang jelas, tetapi terbatas pada **2 cluster** yang sudah ditentukan sebelumnya. Kualitas clusteringnya sangat baik dengan **Silhouette Score** yang tinggi.\n",
    "- **Hierarchical Clustering** memberikan hasil yang lebih terperinci dengan **3 cluster** yang lebih mendalam, dan memiliki keunggulan fleksibilitas dalam jumlah cluster. **Single Linkage** memberikan hasil yang sangat baik dan mendekati **K-Means**, namun **Complete Linkage** dan **Average Linkage** memberikan pemisahan yang agak lebih luas. Namun, waktu eksekusinya lebih lama.\n",
    "\n",
    "Untuk kasus Anda, **K-Means** sangat efisien dan memberikan hasil yang cukup jelas dan bagus, tetapi jika Anda ingin lebih banyak insight mengenai struktur data, **Hierarchical Clustering** memberikan pemisahan yang lebih mendalam dengan hasil yang sangat baik dalam **Single Linkage**."
   ]
  }
 ],
 "metadata": {
  "colab": {
   "provenance": []
  },
  "kernelspec": {
   "display_name": "Python 3",
   "name": "python3"
  },
  "language_info": {
   "codemirror_mode": {
    "name": "ipython",
    "version": 3
   },
   "file_extension": ".py",
   "mimetype": "text/x-python",
   "name": "python",
   "nbconvert_exporter": "python",
   "pygments_lexer": "ipython3",
   "version": "3.12.0"
  }
 },
 "nbformat": 4,
 "nbformat_minor": 0
}
